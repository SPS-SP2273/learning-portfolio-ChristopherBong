{
 "cells": [
  {
   "cell_type": "markdown",
   "id": "123456",
   "metadata": {},
   "source": [
    "<div style=\"text-align:left;font-size:2em\"><span style=\"font-weight:bolder;font-size:1.25em\">SP2273 | Learning Portfolio</span><br><br><span style=\"font-weight:bold;color:darkred\">Using Jupyter (Need), Exercises</span></div>"
   ]
  },
  {
   "cell_type": "markdown",
   "id": "e82848de",
   "metadata": {},
   "source": [
    "## Quadratic Equations"
   ]
  },
  {
   "cell_type": "markdown",
   "id": "eb3f025d",
   "metadata": {},
   "source": [
    "### Introduction"
   ]
  },
  {
   "cell_type": "markdown",
   "id": "8a2601a4",
   "metadata": {},
   "source": [
    "<img align=\"left\" width=\"1000\" height=\"1000\" src=\"https://upload.wikimedia.org/wikipedia/commons/f/f8/Polynomialdeg2.svg\"> \n",
    "\n",
    "\n",
    "(*Image from the* [<ins>*Wikipedia page on Quadratic Equations*</ins>](https://en.wikipedia.org/wiki/Quadratic_equation))\n",
    "\n",
    "The general form of a quadratic equation is:\n",
    "\n",
    "$$ax^{2} + bx + c = 0 $$ </p> \n"
   ]
  },
  {
   "cell_type": "markdown",
   "id": "f3ee6938",
   "metadata": {},
   "source": [
    "### Solutions"
   ]
  },
  {
   "cell_type": "markdown",
   "id": "cc207baa",
   "metadata": {},
   "source": [
    "Provided $a \\ne 0$, we can use an elementary algebraic method called [<ins>completeing the square</ins>](https://en.wikipedia.org/wiki/Completing_the_square) to show that a quadratic equation has the following solution:\n",
    "\n",
    "<p style=\"text-align: center;\"> $x = \\dfrac{-b \\pm \\sqrt{b^2-4ac}}{2a} $ </p>\n"
   ]
  },
  {
   "cell_type": "markdown",
   "id": "7924b8fd",
   "metadata": {},
   "source": [
    "### Discriminant"
   ]
  },
  {
   "cell_type": "markdown",
   "id": "f766f473",
   "metadata": {},
   "source": [
    "The quantity $\\Delta = b^2-4ac$ is called the **discriminant** of the equation and decides the nature of its solutions. The table below shows the various possibilities \n",
    "\n",
    "| Discriminat | Roots |\n",
    "| :---: | :---: |\n",
    "| $$\\Delta = b^2-4ac = 0$$ | A single solution of $\\dfrac{-b}{(2a)}$ |\n",
    "| $\\Delta = b^2-4ac \\gt 0$ | Two distinct solutions |\n",
    "| $\\Delta = b^2-4ac \\lt 0$ | No real solutions; both are complex. | "
   ]
  },
  {
   "cell_type": "markdown",
   "id": "7b9a4fa1",
   "metadata": {},
   "source": [
    "## Exercise 2 (In your own words) ☻"
   ]
  },
  {
   "cell_type": "markdown",
   "id": "0892ac72",
   "metadata": {},
   "source": [
    "1. A repository also known as a repo is a storage location where project files and resources are kept. Containing folders, files and tracked history of changes to said files. Developers can access a repo to collaborate, track changes and manage different versions of their code\n",
    "1. Git keep tracks of <ins>**changes**</ins> in the files in our repository\n",
    "1. A commit refers to the concept relating to tracking of changes within a repository. Whereby a commit represents a snapshot of the project at any point in time.\n",
    "1. A push refers to the process of sending committed changes from a local repository to a remote repository. Allowing for sharing of local changes with others or syncronising work.\n",
    "1. Github refers to the platform for hosting repositories i.e. remote hosting of repos allowing for collaboration whereas Github desktop is a GUI for Git allowing for local management of repos, commit changes and pushing these changes to remote repositories found on Github\n",
    "1. Yes the opposite to 'push' is pull where changes are fetched from a remote repository to a local repository merging changes into the local repository."
   ]
  }
 ],
 "metadata": {
  "kernelspec": {
   "display_name": "Python 3 (ipykernel)",
   "language": "python",
   "name": "python3"
  },
  "language_info": {
   "codemirror_mode": {
    "name": "ipython",
    "version": 3
   },
   "file_extension": ".py",
   "mimetype": "text/x-python",
   "name": "python",
   "nbconvert_exporter": "python",
   "pygments_lexer": "ipython3",
   "version": "3.11.5"
  },
  "toc": {
   "base_numbering": 1,
   "nav_menu": {},
   "number_sections": true,
   "sideBar": true,
   "skip_h1_title": false,
   "title_cell": "Table of Contents",
   "title_sidebar": "Contents",
   "toc_cell": false,
   "toc_position": {},
   "toc_section_display": true,
   "toc_window_display": false
  },
  "varInspector": {
   "cols": {
    "lenName": 16,
    "lenType": 16,
    "lenVar": 40
   },
   "kernels_config": {
    "python": {
     "delete_cmd_postfix": "",
     "delete_cmd_prefix": "del ",
     "library": "var_list.py",
     "varRefreshCmd": "print(var_dic_list())"
    },
    "r": {
     "delete_cmd_postfix": ") ",
     "delete_cmd_prefix": "rm(",
     "library": "var_list.r",
     "varRefreshCmd": "cat(var_dic_list()) "
    }
   },
   "types_to_exclude": [
    "module",
    "function",
    "builtin_function_or_method",
    "instance",
    "_Feature"
   ],
   "window_display": false
  },
  "vscode": {
   "interpreter": {
    "hash": "31f2aee4e71d21fbe5cf8b01ff0e069b9275f58929596ceb00d14d90e3e16cd6"
   }
  }
 },
 "nbformat": 4,
 "nbformat_minor": 5
}

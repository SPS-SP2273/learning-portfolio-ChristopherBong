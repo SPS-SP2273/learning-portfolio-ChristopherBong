{
 "cells": [
  {
   "attachments": {},
   "cell_type": "markdown",
   "id": "123456",
   "metadata": {},
   "source": [
    "<div style=\"text-align:left;font-size:2em\"><span style=\"font-weight:bolder;font-size:1.25em\">SP2273 | Learning Portfolio</span><br><br><span style=\"font-weight:bold;color:darkred\">Storing Data (Need) Exercises</span></div>"
   ]
  },
  {
   "cell_type": "markdown",
   "id": "81c4b275-f842-4cfe-b793-71d3e0ae26eb",
   "metadata": {},
   "source": [
    "# Exercise 1 (Total recall?) ☻"
   ]
  },
  {
   "cell_type": "markdown",
   "id": "1fd6cab7-9892-4a5a-a0d8-cbb3a46fe7cf",
   "metadata": {},
   "source": [
    "1. \"Two similarities between lists and arrays.\"\n",
    "    - Both are ways to store data\n",
    "    - Both store data sequentially (index starting from 0)\n",
    "\n",
    "1. \n",
    "\"Two differences between lists and arrays\"\n",
    "    - lists can store multiple data types while arrays insist on a single data type\n",
    "    - Operations done on list works on the list as a whole compared to arrays which works on individual elements (i.e. py_list_1 + py_list_2 = combines both list together while np_array_1 + np_array_2 adds the values of each element together based on their index).\n",
    "\n",
    "1. \n",
    "\"What is a dictionary?\"\n",
    "   \n",
    "    - *A dictionary stores data by pairing a value to a key*"
   ]
  },
  {
   "cell_type": "markdown",
   "id": "1eb067d7-8d34-4c92-9476-c4fdaa8ce1cb",
   "metadata": {},
   "source": [
    "# Exercise 2 (Indexing) ☻"
   ]
  },
  {
   "cell_type": "code",
   "execution_count": 2,
   "id": "dcbeaecd-7515-4b30-be30-490ee098d78f",
   "metadata": {},
   "outputs": [
    {
     "name": "stdout",
     "output_type": "stream",
     "text": [
      "a1\n",
      "c3\n",
      "e5\n",
      "g7\n",
      "i9\n"
     ]
    }
   ],
   "source": [
    "py_list = [\"a1\", \"b2\", \"c3\", \"d4\", \"e5\", \"f6\", \"g7\", \"h8\", \"i9\", \"j10\"]\n",
    "print(py_list[0])   # Prints 'a1'\n",
    "print(py_list[2])   # Prints 'c3'\n",
    "print(py_list[4])   # Prints 'e5'\n",
    "print(py_list[6])   # Prints 'g7'\n",
    "print(py_list[8])   # Prints 'i9'"
   ]
  },
  {
   "cell_type": "markdown",
   "id": "c927ec87-616c-4d5c-8abd-ccfae2a3dc98",
   "metadata": {},
   "source": [
    "# Exercise 3 (Index again) ☻"
   ]
  },
  {
   "cell_type": "code",
   "execution_count": 6,
   "id": "177be402-71fc-47f7-bf8c-33e1ee1c1c65",
   "metadata": {},
   "outputs": [
    {
     "name": "stdout",
     "output_type": "stream",
     "text": [
      "Boron\n",
      "Boron\n"
     ]
    }
   ],
   "source": [
    "elements = ['Hydrogen',\n",
    "            'Helium', 'Lithium',\n",
    "            'Beryllium', 'Boron', 'Carbon',\n",
    "            'Nitrogen', 'Oxygen',\n",
    "            'Fluorine',\n",
    "            'Neon']\n",
    "\n",
    "print(elements[4])\n",
    "print(elements[-6])"
   ]
  },
  {
   "cell_type": "markdown",
   "id": "b005f12c-9eb9-40ec-b0be-05ee6dfa4366",
   "metadata": {},
   "source": [
    "# Exercise 4 (How many ones) ☻"
   ]
  },
  {
   "cell_type": "code",
   "execution_count": 9,
   "id": "38ab06e8-b6f5-4ba1-9fe6-cb683dca7f5a",
   "metadata": {},
   "outputs": [],
   "source": [
    "import numpy as np"
   ]
  },
  {
   "cell_type": "code",
   "execution_count": 20,
   "id": "ba044893-f95f-48e7-b062-d6b4c811d611",
   "metadata": {},
   "outputs": [
    {
     "name": "stdout",
     "output_type": "stream",
     "text": [
      "9\n"
     ]
    }
   ],
   "source": [
    "numbers=[45, 60, 1, 30, 96, 1, 96, 57, 16, 1,\n",
    "        99, 62, 86, 43, 42, 60, 59, 1, 1, 35,\n",
    "        83, 47, 34, 28, 68, 23, 22, 92, 1, 79,\n",
    "        1, 29, 94, 72, 46, 47, 1, 74, 32, 20,\n",
    "        8, 37, 35, 1, 89, 29, 86, 19, 43, 61]        \n",
    "\n",
    "np_numbers = np.array(numbers) #convert from python list to np array\n",
    "\n",
    "count_one = np.sum(np_numbers == 1) #count the number of 1s by summing values that == 1 \n",
    "\n",
    "print(count_one) #display the number of counted 1s"
   ]
  },
  {
   "cell_type": "code",
   "execution_count": 21,
   "id": "ce8dbcd0-2583-4d0c-9d34-06a49c49bd6c",
   "metadata": {},
   "outputs": [
    {
     "name": "stdout",
     "output_type": "stream",
     "text": [
      "9\n"
     ]
    }
   ],
   "source": [
    "numbers=[45, 60, 1, 30, 96, 1, 96, 57, 16, 1,\n",
    "        99, 62, 86, 43, 42, 60, 59, 1, 1, 35,\n",
    "        83, 47, 34, 28, 68, 23, 22, 92, 1, 79,\n",
    "        1, 29, 94, 72, 46, 47, 1, 74, 32, 20,\n",
    "        8, 37, 35, 1, 89, 29, 86, 19, 43, 61]        \n",
    "\n",
    "np_numbers = np.array(numbers) #convert from python list to np array \n",
    "\n",
    "bool_array = np_numbers == 1 #create boolean array for true values where numbers == 1 \n",
    "\n",
    "np_count_true = np.sum(bool_array) #count true values \n",
    "print(np_count_true) #display the number of true values which is equivalent to number of elements == 1"
   ]
  }
 ],
 "metadata": {
  "kernelspec": {
   "display_name": "Python 3 (ipykernel)",
   "language": "python",
   "name": "python3"
  },
  "language_info": {
   "codemirror_mode": {
    "name": "ipython",
    "version": 3
   },
   "file_extension": ".py",
   "mimetype": "text/x-python",
   "name": "python",
   "nbconvert_exporter": "python",
   "pygments_lexer": "ipython3",
   "version": "3.11.5"
  },
  "toc": {
   "base_numbering": 1,
   "nav_menu": {},
   "number_sections": true,
   "sideBar": true,
   "skip_h1_title": false,
   "title_cell": "Table of Contents",
   "title_sidebar": "Contents",
   "toc_cell": false,
   "toc_position": {},
   "toc_section_display": true,
   "toc_window_display": false
  },
  "vscode": {
   "interpreter": {
    "hash": "31f2aee4e71d21fbe5cf8b01ff0e069b9275f58929596ceb00d14d90e3e16cd6"
   }
  }
 },
 "nbformat": 4,
 "nbformat_minor": 5
}

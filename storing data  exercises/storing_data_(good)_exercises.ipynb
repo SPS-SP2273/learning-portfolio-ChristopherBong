{
 "cells": [
  {
   "attachments": {},
   "cell_type": "markdown",
   "id": "123456",
   "metadata": {},
   "source": [
    "<div style=\"text-align:left;font-size:2em\"><span style=\"font-weight:bolder;font-size:1.25em\">SP2273 | Learning Portfolio</span><br><br><span style=\"font-weight:bold;color:darkred\">Storing Data (Good) Exercises</span></div>"
   ]
  },
  {
   "cell_type": "markdown",
   "id": "fddfb640-1ce4-4e02-9b19-2c90ef8ddbde",
   "metadata": {},
   "source": [
    "### Exercise 1 (Total recall) ☻"
   ]
  },
  {
   "cell_type": "markdown",
   "id": "5e7127c4-4500-487b-b107-690497bafb24",
   "metadata": {},
   "source": [
    "| **Term**   | **Breif Description**                                                                       |\r\n",
    "|------------|---------------------------------------------------------------------------------------------|\r\n",
    "| Subsetting | Refers to selecting elements in a data set                                                  |\r\n",
    "| Indexing   | Refers to selecting one element in a data set                                               |\r\n",
    "| Slicing    | Refers to selecting a range of elements in a data set                                       |\r\n",
    "k| Maing *  | _Refers to creation of a subset of data based on certain conditions using lbon arrea*ra\n",
    "\n",
    "The formatting of the table has issues Yuan Zhe says its likely a bug with jupyter 7y _ |"
   ]
  },
  {
   "cell_type": "code",
   "execution_count": 47,
   "id": "adb05abb-09c6-4fd0-8513-9bdf67e1f1c4",
   "metadata": {},
   "outputs": [],
   "source": [
    "import numpy as np"
   ]
  },
  {
   "cell_type": "markdown",
   "id": "0f3f6506-83ed-4149-91ef-b80701b448dc",
   "metadata": {},
   "source": [
    "### Exercise 2 (Show me the ‘odd’ letters) ☻"
   ]
  },
  {
   "cell_type": "code",
   "execution_count": 46,
   "id": "c04543ef-4d07-4c27-9ab3-57bca66f4d12",
   "metadata": {},
   "outputs": [
    {
     "name": "stdout",
     "output_type": "stream",
     "text": [
      "['A' 'C' 'E' 'G' 'I']\n"
     ]
    }
   ],
   "source": [
    "np_array_2d = np.array([[1, \"A\"], [3, \"C\"], [2, \"B\"], [4, \"D\"],\n",
    "                        [5, \"E\"], [7, \"G\"], [6, \"F\"], [8, \"H\"],\n",
    "                        [10, \"J\"],[9, \"I\"]]) #Create array\n",
    "\n",
    "np_array_2d_subset = np_array_2d[:, 0] #Create subset of data \n",
    "\n",
    "np_array_2d_subset_int = np_array_2d_subset.astype(int) #convert subset above to intergers \n",
    "\n",
    "np_array_2d_subset_divide = x % 2 #divide values by 2 leaving a new array with remainders of the integers when divided by 2\n",
    "\n",
    "np_array_2d_mask = np_array_2d_subset_divide != 0 #create a mask of remainder values that are not equal to 0\n",
    "\n",
    "result = np_array_2d[np_array_2d_mask, 1] #mask over original array to determine letters corresponding to odd numbers\n",
    "\n",
    "print(result)"
   ]
  },
  {
   "cell_type": "code",
   "execution_count": null,
   "id": "16fa5001-3aa2-4e62-9659-f6bef989e73a",
   "metadata": {},
   "outputs": [],
   "source": []
  }
 ],
 "metadata": {
  "kernelspec": {
   "display_name": "Python 3 (ipykernel)",
   "language": "python",
   "name": "python3"
  },
  "language_info": {
   "codemirror_mode": {
    "name": "ipython",
    "version": 3
   },
   "file_extension": ".py",
   "mimetype": "text/x-python",
   "name": "python",
   "nbconvert_exporter": "python",
   "pygments_lexer": "ipython3",
   "version": "3.11.5"
  },
  "toc": {
   "base_numbering": 1,
   "nav_menu": {},
   "number_sections": true,
   "sideBar": true,
   "skip_h1_title": false,
   "title_cell": "Table of Contents",
   "title_sidebar": "Contents",
   "toc_cell": false,
   "toc_position": {},
   "toc_section_display": true,
   "toc_window_display": false
  },
  "vscode": {
   "interpreter": {
    "hash": "31f2aee4e71d21fbe5cf8b01ff0e069b9275f58929596ceb00d14d90e3e16cd6"
   }
  }
 },
 "nbformat": 4,
 "nbformat_minor": 5
}

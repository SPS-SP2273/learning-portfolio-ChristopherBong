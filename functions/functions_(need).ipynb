{
 "cells": [
  {
   "attachments": {},
   "cell_type": "markdown",
   "id": "123456",
   "metadata": {},
   "source": [
    "<div style=\"text-align:left;font-size:2em\"><span style=\"font-weight:bolder;font-size:1.25em\">SP2273 | Learning Portfolio</span><br><br><span style=\"font-weight:bold;color:darkred\">Functions (Need)</span></div>"
   ]
  },
  {
   "attachments": {},
   "cell_type": "markdown",
   "id": "454564a5",
   "metadata": {},
   "source": [
    "# What to expect in this chapter"
   ]
  },
  {
   "cell_type": "code",
   "execution_count": 13,
   "id": "289f09a0-1579-4854-8acf-723bb61de012",
   "metadata": {},
   "outputs": [],
   "source": [
    "import numpy as np"
   ]
  },
  {
   "attachments": {},
   "cell_type": "markdown",
   "id": "75ba2fd4",
   "metadata": {},
   "source": [
    "# 1 User-defined functions"
   ]
  },
  {
   "cell_type": "code",
   "execution_count": 1,
   "id": "b03bb033-2e28-41a2-84af-4522418a1040",
   "metadata": {},
   "outputs": [],
   "source": [
    "# print() is a user defined functions\n",
    "# 2 ways to create own function : named and anonymous"
   ]
  },
  {
   "attachments": {},
   "cell_type": "markdown",
   "id": "4d11551b",
   "metadata": {},
   "source": [
    "## 1.1 Named Functions"
   ]
  },
  {
   "cell_type": "code",
   "execution_count": 2,
   "id": "85e67857-f86e-43aa-a288-19cbecfe404a",
   "metadata": {},
   "outputs": [],
   "source": [
    "def greeting(name):\n",
    "    if name == 'Batman':\n",
    "        return 'Hello Batman! So, nice to meet you!'\n",
    "    else:\n",
    "        return f'Hello {name}!'"
   ]
  },
  {
   "cell_type": "code",
   "execution_count": 3,
   "id": "df526b92-ef4e-42fb-9ffc-ea5e918f192c",
   "metadata": {},
   "outputs": [
    {
     "data": {
      "text/plain": [
       "'Hello Chris!'"
      ]
     },
     "execution_count": 3,
     "metadata": {},
     "output_type": "execute_result"
    }
   ],
   "source": [
    "greeting('Chris')"
   ]
  },
  {
   "cell_type": "code",
   "execution_count": 7,
   "id": "70c69fee-f7b7-43d0-bf11-ad43aee1be58",
   "metadata": {},
   "outputs": [],
   "source": [
    "def greeting(name):\n",
    "    if name == 'Batman':\n",
    "        'Hello Batman! So, nice to meet you!'\n",
    "    else:\n",
    "        print(f'Hello {name}!') #if return is not added it would run without giving an output"
   ]
  },
  {
   "cell_type": "code",
   "execution_count": 10,
   "id": "82e70d4d-ab5a-44a6-bd99-f689c15384b3",
   "metadata": {},
   "outputs": [
    {
     "name": "stdout",
     "output_type": "stream",
     "text": [
      " no is 3\n",
      "x is 3, y is None\n"
     ]
    }
   ],
   "source": [
    "def give_no(no):\n",
    "    return no\n",
    "\n",
    "def give_no2(no):\n",
    "    print(f' no is {no}') #print just this function without giving back the value\n",
    "\n",
    "x = give_no(3)\n",
    "y = give_no2(3)\n",
    "\n",
    "print(f'x is {x}, y is {y}') "
   ]
  },
  {
   "cell_type": "code",
   "execution_count": 1,
   "id": "f2075e47-2024-458b-9144-beb0d66f2d68",
   "metadata": {},
   "outputs": [],
   "source": [
    "def basic_stats(numbers):\n",
    "    np_numbers = np.array(numbers)\n",
    "    my_min = np_numbers.min()\n",
    "    my_max = np_numbers.max()\n",
    "    my_mean = np_numbers.mean()\n",
    "    return my_max, my_min, my_mean"
   ]
  },
  {
   "cell_type": "code",
   "execution_count": 21,
   "id": "f3dfc351-2883-49cb-a07d-6a4b5a127c1e",
   "metadata": {},
   "outputs": [],
   "source": [
    "list_max, list_min, list_mean = basic_stats([1, 2, 3, 4, 5])"
   ]
  },
  {
   "cell_type": "code",
   "execution_count": 2,
   "id": "4971f20f-4bfc-44ea-abd1-05cc37e210f9",
   "metadata": {
    "scrolled": true
   },
   "outputs": [
    {
     "ename": "NameError",
     "evalue": "name 'my_min' is not defined",
     "output_type": "error",
     "traceback": [
      "\u001b[1;31m---------------------------------------------------------------------------\u001b[0m",
      "\u001b[1;31mNameError\u001b[0m                                 Traceback (most recent call last)",
      "Cell \u001b[1;32mIn[2], line 1\u001b[0m\n\u001b[1;32m----> 1\u001b[0m \u001b[38;5;28mprint\u001b[39m(\u001b[43mmy_min\u001b[49m) \u001b[38;5;66;03m#within the function so cannot be called out of function\u001b[39;00m\n",
      "\u001b[1;31mNameError\u001b[0m: name 'my_min' is not defined"
     ]
    }
   ],
   "source": [
    "print(my_min) #within the function so cannot be called out of function"
   ]
  },
  {
   "cell_type": "code",
   "execution_count": 22,
   "id": "d707a4c0-2898-4cd5-8ded-2aef69f9543c",
   "metadata": {},
   "outputs": [
    {
     "data": {
      "text/plain": [
       "(5, 1, 3.0)"
      ]
     },
     "execution_count": 22,
     "metadata": {},
     "output_type": "execute_result"
    }
   ],
   "source": [
    "basic_stats([1, 2, 3, 4, 5])"
   ]
  },
  {
   "attachments": {},
   "cell_type": "markdown",
   "id": "2585cd55",
   "metadata": {},
   "source": [
    "### Named functions that return"
   ]
  },
  {
   "cell_type": "code",
   "execution_count": 3,
   "id": "5b3f64ca",
   "metadata": {},
   "outputs": [
    {
     "name": "stdout",
     "output_type": "stream",
     "text": [
      " no is 3\n",
      "x is 3, y is None\n"
     ]
    }
   ],
   "source": [
    "\n",
    "def give_no(no):\n",
    "    return no\n",
    "\n",
    "def give_no2(no):\n",
    "    print(f' no is {no}') #print just this function without giving back the value\n",
    "\n",
    "x = give_no(3)\n",
    "y = give_no2(3)\n",
    "\n",
    "print(f'x is {x}, y is {y}') \n"
   ]
  },
  {
   "attachments": {},
   "cell_type": "markdown",
   "id": "d8abb0ba",
   "metadata": {},
   "source": [
    "### Named functions that don’t return"
   ]
  },
  {
   "cell_type": "code",
   "execution_count": 7,
   "id": "7b1d5ecd",
   "metadata": {},
   "outputs": [
    {
     "name": "stdout",
     "output_type": "stream",
     "text": [
      "hello, human!\n"
     ]
    }
   ],
   "source": [
    "#Example of named functions that don't return is print\n",
    "def print_hello():\n",
    "    print(\"hello, human!\")\n",
    "\n",
    "# Calling the function\n",
    "print_hello()\n"
   ]
  },
  {
   "attachments": {},
   "cell_type": "markdown",
   "id": "5f67b940",
   "metadata": {},
   "source": [
    "## 1.2 Anonymous functions"
   ]
  },
  {
   "cell_type": "code",
   "execution_count": 8,
   "id": "93bb7a5d-2d08-4ca8-9bb6-4913a3e84af7",
   "metadata": {},
   "outputs": [],
   "source": [
    "my_short_function = lambda name: f\"Hello {name}!\""
   ]
  },
  {
   "cell_type": "code",
   "execution_count": 9,
   "id": "6bf2fef5-397a-462d-80d2-704b29cfb165",
   "metadata": {},
   "outputs": [
    {
     "data": {
      "text/plain": [
       "'Hello Super Man!'"
      ]
     },
     "execution_count": 9,
     "metadata": {},
     "output_type": "execute_result"
    }
   ],
   "source": [
    "my_short_function(name=\"Super Man\")"
   ]
  },
  {
   "cell_type": "code",
   "execution_count": 11,
   "id": "1d8e1f07-9610-42d3-bcd3-aeab9a133d94",
   "metadata": {},
   "outputs": [
    {
     "name": "stdout",
     "output_type": "stream",
     "text": [
      "25\n",
      "25\n"
     ]
    }
   ],
   "source": [
    "# named function\n",
    "def square(x):\n",
    "    return x**2\n",
    "\n",
    "# anonymous function\n",
    "square_anon = lambda x: x**2\n",
    "\n",
    "# Using both functions\n",
    "print(square(5))         \n",
    "print(square_anon(5))  \n"
   ]
  },
  {
   "cell_type": "code",
   "execution_count": 22,
   "id": "b5dab648-c7d4-448d-9143-0470e924e886",
   "metadata": {},
   "outputs": [],
   "source": [
    "numbers=[[9, 0, -10],\n",
    "         [8, 1, -11],\n",
    "         [7, 2, -12],\n",
    "         [6, 3, -13],\n",
    "         [5, 4, -14],\n",
    "         [4, 5, -15],\n",
    "         [3, 6, -16],\n",
    "         [2, 7, -17],\n",
    "         [1, 8, -18],\n",
    "         [0, 9, -19]]"
   ]
  },
  {
   "cell_type": "code",
   "execution_count": 13,
   "id": "52e49056-f575-417a-9be7-f41970f58f6c",
   "metadata": {},
   "outputs": [
    {
     "data": {
      "text/plain": [
       "[[0, 9, -19],\n",
       " [1, 8, -18],\n",
       " [2, 7, -17],\n",
       " [3, 6, -16],\n",
       " [4, 5, -15],\n",
       " [5, 4, -14],\n",
       " [6, 3, -13],\n",
       " [7, 2, -12],\n",
       " [8, 1, -11],\n",
       " [9, 0, -10]]"
      ]
     },
     "execution_count": 13,
     "metadata": {},
     "output_type": "execute_result"
    }
   ],
   "source": [
    "# Sort by comparing the default key\n",
    "# (i.e., the 1st element)\n",
    "sorted(numbers)"
   ]
  },
  {
   "cell_type": "code",
   "execution_count": 14,
   "id": "b0cb6ec7-c428-4c63-ab01-a5eff06a34c5",
   "metadata": {},
   "outputs": [
    {
     "data": {
      "text/plain": [
       "[[9, 0, -10],\n",
       " [8, 1, -11],\n",
       " [7, 2, -12],\n",
       " [6, 3, -13],\n",
       " [5, 4, -14],\n",
       " [4, 5, -15],\n",
       " [3, 6, -16],\n",
       " [2, 7, -17],\n",
       " [1, 8, -18],\n",
       " [0, 9, -19]]"
      ]
     },
     "execution_count": 14,
     "metadata": {},
     "output_type": "execute_result"
    }
   ],
   "source": [
    "# Sort by comparing a custom key\n",
    "# that uses the 2nd element (index=1)\n",
    "sorted(numbers, key=lambda x: x[1])"
   ]
  },
  {
   "cell_type": "code",
   "execution_count": 17,
   "id": "73943625-c089-4cdd-83c6-cd5f3272a6b0",
   "metadata": {},
   "outputs": [
    {
     "data": {
      "text/plain": [
       "[[0, 9, -19],\n",
       " [1, 8, -18],\n",
       " [2, 7, -17],\n",
       " [3, 6, -16],\n",
       " [4, 5, -15],\n",
       " [5, 4, -14],\n",
       " [6, 3, -13],\n",
       " [7, 2, -12],\n",
       " [8, 1, -11],\n",
       " [9, 0, -10]]"
      ]
     },
     "execution_count": 17,
     "metadata": {},
     "output_type": "execute_result"
    }
   ],
   "source": [
    "# Sort by comparing a custom key\n",
    "# that uses the sum of the elements.\n",
    "sorted(numbers, key=lambda x: sum(x))   "
   ]
  },
  {
   "cell_type": "code",
   "execution_count": 21,
   "id": "17bf558e-750b-4ecc-a9d6-f72dc680575c",
   "metadata": {},
   "outputs": [
    {
     "name": "stdout",
     "output_type": "stream",
     "text": [
      "[[1, 5, 9], [2, 6, 5], [3, 1, 4]]\n",
      "[[3, 1, 4], [2, 6, 5], [1, 5, 9]]\n"
     ]
    }
   ],
   "source": [
    "numbers2 = [[3, 1, 4], [1, 5, 9], [2, 6, 5]]\n",
    "\n",
    "# Sorting based on the default key (1st element)\n",
    "result_default = sorted(numbers)\n",
    "print(result_default)\n",
    "\n",
    "\n",
    "# Sorting based on the sum of elements\n",
    "result_custom_key = sorted(numbers, key=lambda x: sum(x))\n",
    "print(result_custom_key)\n",
    "\n"
   ]
  },
  {
   "attachments": {},
   "cell_type": "markdown",
   "id": "0b267d29",
   "metadata": {},
   "source": [
    "## 1.3 Optional arguments"
   ]
  },
  {
   "cell_type": "code",
   "execution_count": 27,
   "id": "e8597987-a378-416d-9759-ce8754f92e20",
   "metadata": {},
   "outputs": [],
   "source": [
    "def greeting(name='no one'): \n",
    "    if name == 'Batman':\n",
    "        return 'Hello Batman! So, nice to meet you!'\n",
    "    else:\n",
    "        return f'Hello {name}!'"
   ]
  },
  {
   "cell_type": "code",
   "execution_count": 25,
   "id": "943d2d18-0e0f-486a-8966-37f6be769b8c",
   "metadata": {},
   "outputs": [],
   "source": [
    "def greeting(name): # will return error since no value is preassigned \n",
    "    if name == 'Batman':\n",
    "        return 'Hello Batman! So, nice to meet you!'\n",
    "    else:\n",
    "        return f'Hello {name}!'"
   ]
  },
  {
   "cell_type": "code",
   "execution_count": 28,
   "id": "745ddca1-7031-494d-9479-04369549c1c1",
   "metadata": {},
   "outputs": [
    {
     "data": {
      "text/plain": [
       "'Hello no one!'"
      ]
     },
     "execution_count": 28,
     "metadata": {},
     "output_type": "execute_result"
    }
   ],
   "source": [
    "greeting()"
   ]
  },
  {
   "cell_type": "code",
   "execution_count": 29,
   "id": "66362320-9def-4823-98c5-2ddcc107204d",
   "metadata": {},
   "outputs": [
    {
     "data": {
      "text/plain": [
       "\u001b[1;31mSignature:\u001b[0m \u001b[0mprint\u001b[0m\u001b[1;33m(\u001b[0m\u001b[1;33m*\u001b[0m\u001b[0margs\u001b[0m\u001b[1;33m,\u001b[0m \u001b[0msep\u001b[0m\u001b[1;33m=\u001b[0m\u001b[1;34m' '\u001b[0m\u001b[1;33m,\u001b[0m \u001b[0mend\u001b[0m\u001b[1;33m=\u001b[0m\u001b[1;34m'\\n'\u001b[0m\u001b[1;33m,\u001b[0m \u001b[0mfile\u001b[0m\u001b[1;33m=\u001b[0m\u001b[1;32mNone\u001b[0m\u001b[1;33m,\u001b[0m \u001b[0mflush\u001b[0m\u001b[1;33m=\u001b[0m\u001b[1;32mFalse\u001b[0m\u001b[1;33m)\u001b[0m\u001b[1;33m\u001b[0m\u001b[1;33m\u001b[0m\u001b[0m\n",
       "\u001b[1;31mDocstring:\u001b[0m\n",
       "Prints the values to a stream, or to sys.stdout by default.\n",
       "\n",
       "sep\n",
       "  string inserted between values, default a space.\n",
       "end\n",
       "  string appended after the last value, default a newline.\n",
       "file\n",
       "  a file-like object (stream); defaults to the current sys.stdout.\n",
       "flush\n",
       "  whether to forcibly flush the stream.\n",
       "\u001b[1;31mType:\u001b[0m      builtin_function_or_method"
      ]
     },
     "metadata": {},
     "output_type": "display_data"
    }
   ],
   "source": [
    "?print"
   ]
  },
  {
   "cell_type": "code",
   "execution_count": 30,
   "id": "8f0bd0f4-9979-4008-8f51-5b99bd1796bd",
   "metadata": {},
   "outputs": [
    {
     "name": "stdout",
     "output_type": "stream",
     "text": [
      "I am Batman!\n"
     ]
    }
   ],
   "source": [
    "# Using default values\n",
    "print('I', 'am', 'Batman!')"
   ]
  },
  {
   "cell_type": "code",
   "execution_count": 32,
   "id": "093a252c-7e43-4a43-a29f-2de357d45592",
   "metadata": {},
   "outputs": [
    {
     "name": "stdout",
     "output_type": "stream",
     "text": [
      "1 2 3\n"
     ]
    }
   ],
   "source": [
    "print(1, 2, 3)"
   ]
  },
  {
   "cell_type": "code",
   "execution_count": 31,
   "id": "ef824da2-f2e4-4523-8641-807a466715f2",
   "metadata": {},
   "outputs": [
    {
     "name": "stdout",
     "output_type": "stream",
     "text": [
      "I---am---Batman!\n"
     ]
    }
   ],
   "source": [
    "# Specifying an optional argument\n",
    "print('I', 'am', 'Batman!', sep='---')  "
   ]
  },
  {
   "cell_type": "code",
   "execution_count": 36,
   "id": "33f6c768-5fba-4d33-9c7f-0f1254f4c557",
   "metadata": {},
   "outputs": [
    {
     "name": "stdout",
     "output_type": "stream",
     "text": [
      "1🤡🤡🤡2🤡🤡🤡3\n"
     ]
    }
   ],
   "source": [
    "print(1, 2, 3, sep=\"🤡🤡🤡\") "
   ]
  },
  {
   "attachments": {},
   "cell_type": "markdown",
   "id": "be966cbc",
   "metadata": {},
   "source": [
    "## 1.4 The importance of functions?"
   ]
  },
  {
   "attachments": {},
   "cell_type": "markdown",
   "id": "83aa4a39",
   "metadata": {},
   "source": [
    "### An argument for functions"
   ]
  },
  {
   "cell_type": "markdown",
   "id": "d3c3758a-24c5-43c5-9fe2-b2f9be0c725a",
   "metadata": {},
   "source": [
    "Abstraction is helpful in hiding complicated code behind usable functions similar to the analogy given in the content material\n",
    "\n",
    "By defining a function it makes codes easily reusable instead of copy pasting\n",
    "\n",
    "making it easier to maintain as edit just have to be made to chunks of code within a function rather than the whole code"
   ]
  },
  {
   "attachments": {},
   "cell_type": "markdown",
   "id": "0bce5a54",
   "metadata": {},
   "source": [
    "### A word of caution"
   ]
  },
  {
   "cell_type": "markdown",
   "id": "5880173a-a23b-422d-af97-d4946ebca032",
   "metadata": {},
   "source": [
    "Excessive use of functions or trying to make them do too many things can lead to confusion and inefficiency. \n",
    "\n",
    "How to be cautious: Be mindful not to create functions that are overly complex or have too many arguments. \n",
    "\n",
    "Too many functions can also make your code hard to understand. It's important to strike a balance and use functions where they genuinely improve the organization and readability of your code."
   ]
  }
 ],
 "metadata": {
  "kernelspec": {
   "display_name": "Python 3 (ipykernel)",
   "language": "python",
   "name": "python3"
  },
  "language_info": {
   "codemirror_mode": {
    "name": "ipython",
    "version": 3
   },
   "file_extension": ".py",
   "mimetype": "text/x-python",
   "name": "python",
   "nbconvert_exporter": "python",
   "pygments_lexer": "ipython3",
   "version": "3.11.5"
  },
  "toc": {
   "base_numbering": 1,
   "nav_menu": {},
   "number_sections": true,
   "sideBar": true,
   "skip_h1_title": false,
   "title_cell": "Table of Contents",
   "title_sidebar": "Contents",
   "toc_cell": false,
   "toc_position": {},
   "toc_section_display": true,
   "toc_window_display": false
  },
  "vscode": {
   "interpreter": {
    "hash": "31f2aee4e71d21fbe5cf8b01ff0e069b9275f58929596ceb00d14d90e3e16cd6"
   }
  }
 },
 "nbformat": 4,
 "nbformat_minor": 5
}

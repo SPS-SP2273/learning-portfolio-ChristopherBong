{
 "cells": [
  {
   "attachments": {},
   "cell_type": "markdown",
   "id": "123456",
   "metadata": {},
   "source": [
    "<div style=\"text-align:left;font-size:2em\"><span style=\"font-weight:bolder;font-size:1.25em\">SP2273 | Learning Portfolio</span><br><br><span style=\"font-weight:bold;color:darkred\">Loops (Need) Exercises</span></div>"
   ]
  },
  {
   "cell_type": "markdown",
   "id": "b2e9b083-5b64-4c8d-819a-dc418d78e618",
   "metadata": {},
   "source": [
    "### Exercise 1 (Celcius to Farenheit) ☻"
   ]
  },
  {
   "cell_type": "code",
   "execution_count": 15,
   "id": "5f7e0dbd-5f03-4747-8173-ebbe85ad050c",
   "metadata": {},
   "outputs": [
    {
     "name": "stdout",
     "output_type": "stream",
     "text": [
      "0\n",
      "32.0\n",
      "5\n",
      "41.0\n",
      "10\n",
      "50.0\n",
      "15\n",
      "59.0\n",
      "20\n",
      "68.0\n",
      "25\n",
      "77.0\n",
      "30\n",
      "86.0\n",
      "35\n",
      "95.0\n",
      "40\n",
      "104.0\n",
      "45\n",
      "113.0\n",
      "50\n",
      "122.0\n"
     ]
    }
   ],
   "source": [
    "temperatures_celsius = [\n",
    "    0, 5, 10, 15, 20, 25,\n",
    "    30, 35, 40, 45, 50\n",
    "]\n",
    "\n",
    "for temp in temperatures_celsius :\n",
    "    temperatures_farenheit = (temp * 9/5 + 32)\n",
    "    print(temp)\n",
    "    print(temperatures_farenheit)\n",
    "    \n"
   ]
  },
  {
   "cell_type": "code",
   "execution_count": 1,
   "id": "372fe2b8-a1ce-42ea-b95c-b81dff0e8fb4",
   "metadata": {},
   "outputs": [
    {
     "name": "stdout",
     "output_type": "stream",
     "text": [
      "A1\tA2\tA3\t\n",
      "\n",
      "B1\tB2\tB3\t\n",
      "\n",
      "C1\tC2\tC3\t\n",
      "\n"
     ]
    }
   ],
   "source": [
    "for letter in ['A', 'B', 'C']:\n",
    "    for number in [1, 2, 3]:\n",
    "        print(f'{letter}{number}', end='\\t')\n",
    "    print('\\n')"
   ]
  },
  {
   "cell_type": "markdown",
   "id": "c827cb9b-7fd3-41cd-b01d-f3b68c6078a2",
   "metadata": {},
   "source": [
    "### Exercise 2 (Multiplication table) ☻"
   ]
  },
  {
   "cell_type": "code",
   "execution_count": 44,
   "id": "2cac235c-673b-41d2-b855-1e3e16fd534d",
   "metadata": {},
   "outputs": [
    {
     "name": "stdout",
     "output_type": "stream",
     "text": [
      " 1 : 1 2 3 4 5 \n",
      "\n",
      " 2 : 2 4 6 8 10 \n",
      "\n",
      " 3 : 3 6 9 12 15 \n",
      "\n",
      " 4 : 4 8 12 16 20 \n",
      "\n",
      " 5 : 5 10 15 20 25 \n",
      "\n"
     ]
    }
   ],
   "source": [
    "for number in range(1,6): \n",
    "    print(f' {number} : ', end='')\n",
    "    for product in range(1,6): \n",
    "        result = number * product \n",
    "        print(f'{result} ', end='')\n",
    "    print('\\n')\n",
    "    \n",
    "        "
   ]
  }
 ],
 "metadata": {
  "kernelspec": {
   "display_name": "Python 3 (ipykernel)",
   "language": "python",
   "name": "python3"
  },
  "language_info": {
   "codemirror_mode": {
    "name": "ipython",
    "version": 3
   },
   "file_extension": ".py",
   "mimetype": "text/x-python",
   "name": "python",
   "nbconvert_exporter": "python",
   "pygments_lexer": "ipython3",
   "version": "3.11.5"
  },
  "toc": {
   "base_numbering": 1,
   "nav_menu": {},
   "number_sections": true,
   "sideBar": true,
   "skip_h1_title": false,
   "title_cell": "Table of Contents",
   "title_sidebar": "Contents",
   "toc_cell": false,
   "toc_position": {},
   "toc_section_display": true,
   "toc_window_display": false
  },
  "vscode": {
   "interpreter": {
    "hash": "31f2aee4e71d21fbe5cf8b01ff0e069b9275f58929596ceb00d14d90e3e16cd6"
   }
  }
 },
 "nbformat": 4,
 "nbformat_minor": 5
}

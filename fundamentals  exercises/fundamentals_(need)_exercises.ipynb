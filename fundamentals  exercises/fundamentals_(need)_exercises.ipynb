{
 "cells": [
  {
   "cell_type": "markdown",
   "id": "123456",
   "metadata": {},
   "source": [
    "<div style=\"text-align:left;font-size:2em\"><span style=\"font-weight:bolder;font-size:1.25em\">SP2273 | Learning Portfolio</span><br><br><span style=\"font-weight:bold;color:darkred\">Fundamentals (Need) Exercises</span></div>"
   ]
  },
  {
   "cell_type": "markdown",
   "id": "d14dcd21",
   "metadata": {},
   "source": [
    "### Exercise 1 (Total recall?) ☻"
   ]
  },
  {
   "cell_type": "markdown",
   "id": "1fd4f954",
   "metadata": {},
   "source": [
    "1. Functions\n",
    "1. = not the same as == \n",
    "1. Python is case-sensitve \n",
    "1. import packages for added functions (i.e. math/numpy for sqrt) \n",
    "1. Comments can be added with #\n",
    "1. indentations are needed to prevent code from breaking\n",
    "1. python uses brackets ([{}])\n",
    "1. (.) means belonging to \n",
    "1. _python is intepreted (one line at a time, sequentially)_\n",
    "1. _use if for decision making_\n",
    "1. _'age' is english while age is a variable_\n"
   ]
  },
  {
   "cell_type": "markdown",
   "id": "ad49d9da",
   "metadata": {},
   "source": [
    "### Exercise 2 (Debug me) ☻"
   ]
  },
  {
   "cell_type": "code",
   "execution_count": 12,
   "id": "bcd51666",
   "metadata": {
    "scrolled": false
   },
   "outputs": [
    {
     "name": "stdout",
     "output_type": "stream",
     "text": [
      "3 4 5\n"
     ]
    }
   ],
   "source": [
    "x, y = 3, 4\n",
    "z = np.sqrt(x*2 + y**2)\n",
    "roundz = round(z)\n",
    "print(x, y, roundz)"
   ]
  },
  {
   "cell_type": "markdown",
   "id": "809cdb1e",
   "metadata": {},
   "source": [
    "### Exercise 3 (In your own words) ☻"
   ]
  },
  {
   "cell_type": "markdown",
   "id": "d02a183b",
   "metadata": {},
   "source": [
    "|  # | Term         | Description |\n",
    "|:--:|--------------|:---|\n",
    "|  1 | Function     | Command that performs a specific task |\n",
    "|  2 | Arguments    | Values given to functions when ran |\n",
    "|  3 | Comments     | Ignored lines by python to give context to lines of code |\n",
    "|  4 | Indentations | Spaces in code to seperate and organize the coding structure |\n",
    "|  5 | Packages     | A folder containing modules that may provided added functions to python |\n",
    "|  6 | .            | Refers to 'ownership'/belongs to (i.e. math.sqrt would indicate the function sqrt belonging to the math module) |\n",
    "|  7 | :            | Used to indicate a portion of code |\n",
    "|  8 | []           | Used for listing of data (single lists) |\n",
    "|  9 | [[[]]]       | Used for nested data |\n",
    "| 10 | {}           | Used for storing data in a 'Dictionary' within python |"
   ]
  },
  {
   "cell_type": "markdown",
   "id": "ac1b1041",
   "metadata": {},
   "source": [
    "### Exercise 4 (More than one way to divide) ☻"
   ]
  },
  {
   "cell_type": "code",
   "execution_count": 16,
   "id": "ee47d9b0",
   "metadata": {},
   "outputs": [
    {
     "data": {
      "text/plain": [
       "2.5"
      ]
     },
     "execution_count": 16,
     "metadata": {},
     "output_type": "execute_result"
    }
   ],
   "source": [
    "5/2           # Normal division"
   ]
  },
  {
   "cell_type": "code",
   "execution_count": 20,
   "id": "150857b2",
   "metadata": {},
   "outputs": [
    {
     "data": {
      "text/plain": [
       "2"
      ]
     },
     "execution_count": 20,
     "metadata": {},
     "output_type": "execute_result"
    }
   ],
   "source": [
    "5//2          # Divide and give the quotient as the result (floor division)"
   ]
  },
  {
   "cell_type": "code",
   "execution_count": 18,
   "id": "5a0a464f",
   "metadata": {},
   "outputs": [
    {
     "data": {
      "text/plain": [
       "1"
      ]
     },
     "execution_count": 18,
     "metadata": {},
     "output_type": "execute_result"
    }
   ],
   "source": [
    "5%2           # Divide and give the remainder as the result (modulo operator)"
   ]
  }
 ],
 "metadata": {
  "kernelspec": {
   "display_name": "Python 3 (ipykernel)",
   "language": "python",
   "name": "python3"
  },
  "language_info": {
   "codemirror_mode": {
    "name": "ipython",
    "version": 3
   },
   "file_extension": ".py",
   "mimetype": "text/x-python",
   "name": "python",
   "nbconvert_exporter": "python",
   "pygments_lexer": "ipython3",
   "version": "3.11.5"
  },
  "toc": {
   "base_numbering": 1,
   "nav_menu": {},
   "number_sections": true,
   "sideBar": true,
   "skip_h1_title": false,
   "title_cell": "Table of Contents",
   "title_sidebar": "Contents",
   "toc_cell": false,
   "toc_position": {},
   "toc_section_display": true,
   "toc_window_display": false
  },
  "varInspector": {
   "cols": {
    "lenName": 16,
    "lenType": 16,
    "lenVar": 40
   },
   "kernels_config": {
    "python": {
     "delete_cmd_postfix": "",
     "delete_cmd_prefix": "del ",
     "library": "var_list.py",
     "varRefreshCmd": "print(var_dic_list())"
    },
    "r": {
     "delete_cmd_postfix": ") ",
     "delete_cmd_prefix": "rm(",
     "library": "var_list.r",
     "varRefreshCmd": "cat(var_dic_list()) "
    }
   },
   "types_to_exclude": [
    "module",
    "function",
    "builtin_function_or_method",
    "instance",
    "_Feature"
   ],
   "window_display": false
  },
  "vscode": {
   "interpreter": {
    "hash": "31f2aee4e71d21fbe5cf8b01ff0e069b9275f58929596ceb00d14d90e3e16cd6"
   }
  }
 },
 "nbformat": 4,
 "nbformat_minor": 5
}

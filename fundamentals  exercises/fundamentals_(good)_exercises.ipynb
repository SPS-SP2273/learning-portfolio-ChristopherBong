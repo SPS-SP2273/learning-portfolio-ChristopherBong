{
 "cells": [
  {
   "attachments": {},
   "cell_type": "markdown",
   "id": "123456",
   "metadata": {},
   "source": [
    "<div style=\"text-align:left;font-size:2em\"><span style=\"font-weight:bolder;font-size:1.25em\">SP2273 | Learning Portfolio</span><br><br><span style=\"font-weight:bold;color:darkred\">Fundamentals (Good) Exercises</span></div>"
   ]
  },
  {
   "cell_type": "code",
   "execution_count": 25,
   "id": "31071f43-565f-482f-8b66-c41a67fbc505",
   "metadata": {},
   "outputs": [
    {
     "name": "stdin",
     "output_type": "stream",
     "text": [
      "Key in student's score 19\n"
     ]
    },
    {
     "name": "stdout",
     "output_type": "stream",
     "text": [
      "You entered 19.0\n",
      "The student's letter grade is: FAIL\n"
     ]
    }
   ],
   "source": [
    "try: \n",
    "    \n",
    "    user_input = float(input('Key in student\\'s score'))\n",
    "    print('You entered', user_input)\n",
    "\n",
    "    if 70 <= user_input  <= 100 : \n",
    "        print('The student\\'s letter grade is: A')\n",
    "\n",
    "    elif 50 <= user_input < 70 :\n",
    "        print('The student\\'s letter grade is: B')\n",
    "\n",
    "    elif 35 <= user_input < 50 : \n",
    "        print('The student\\'s letter grade is: C')\n",
    "\n",
    "    elif 0 <= user_input < 35 : \n",
    "        print('The student\\'s letter grade is: FAIL')\n",
    "\n",
    "    else : \n",
    "        print('Please enter a score between 0 and 100')\n",
    "\n",
    "except ValueError:\n",
    "    print(\"Please enter a valid score\")"
   ]
  }
 ],
 "metadata": {
  "kernelspec": {
   "display_name": "Python 3 (ipykernel)",
   "language": "python",
   "name": "python3"
  },
  "language_info": {
   "codemirror_mode": {
    "name": "ipython",
    "version": 3
   },
   "file_extension": ".py",
   "mimetype": "text/x-python",
   "name": "python",
   "nbconvert_exporter": "python",
   "pygments_lexer": "ipython3",
   "version": "3.11.5"
  },
  "toc": {
   "base_numbering": 1,
   "nav_menu": {},
   "number_sections": true,
   "sideBar": true,
   "skip_h1_title": false,
   "title_cell": "Table of Contents",
   "title_sidebar": "Contents",
   "toc_cell": false,
   "toc_position": {},
   "toc_section_display": true,
   "toc_window_display": false
  },
  "vscode": {
   "interpreter": {
    "hash": "31f2aee4e71d21fbe5cf8b01ff0e069b9275f58929596ceb00d14d90e3e16cd6"
   }
  }
 },
 "nbformat": 4,
 "nbformat_minor": 5
}

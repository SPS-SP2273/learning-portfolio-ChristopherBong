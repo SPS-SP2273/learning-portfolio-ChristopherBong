{
 "cells": [
  {
   "attachments": {},
   "cell_type": "markdown",
   "id": "123456",
   "metadata": {},
   "source": [
    "<div style=\"text-align:left;font-size:2em\"><span style=\"font-weight:bolder;font-size:1.25em\">SP2273 | Learning Portfolio</span><br><br><span style=\"font-weight:bold;color:darkred\">Plotting (Need)</span></div>"
   ]
  },
  {
   "attachments": {},
   "cell_type": "markdown",
   "id": "345975a1",
   "metadata": {},
   "source": [
    "# What to expect in this chapter"
   ]
  },
  {
   "attachments": {},
   "cell_type": "markdown",
   "id": "fd0a6850",
   "metadata": {},
   "source": [
    "# 1 A simple plot"
   ]
  },
  {
   "attachments": {},
   "cell_type": "markdown",
   "id": "02f9b615",
   "metadata": {},
   "source": [
    "## 1.1 Let’s look at some code."
   ]
  },
  {
   "attachments": {},
   "cell_type": "markdown",
   "id": "72b97a91",
   "metadata": {},
   "source": [
    "### Things to note"
   ]
  },
  {
   "cell_type": "code",
   "execution_count": null,
   "id": "eac07c2e",
   "metadata": {},
   "outputs": [],
   "source": [
    "\n",
    "# Your code here\n"
   ]
  },
  {
   "attachments": {},
   "cell_type": "markdown",
   "id": "686edc5f",
   "metadata": {},
   "source": [
    "## 1.2 Adding another plot"
   ]
  },
  {
   "attachments": {},
   "cell_type": "markdown",
   "id": "5d678f83",
   "metadata": {},
   "source": [
    "## 1.3 Yet another plot but with error bars"
   ]
  },
  {
   "attachments": {},
   "cell_type": "markdown",
   "id": "3703e628",
   "metadata": {},
   "source": [
    "# 2 Better with NumPy"
   ]
  },
  {
   "attachments": {},
   "cell_type": "markdown",
   "id": "e9434494",
   "metadata": {},
   "source": [
    "## 2.1 Adding mathematical functions"
   ]
  },
  {
   "attachments": {},
   "cell_type": "markdown",
   "id": "549c3210",
   "metadata": {},
   "source": [
    "## We need another axis!"
   ]
  },
  {
   "attachments": {},
   "cell_type": "markdown",
   "id": "2fae727e",
   "metadata": {},
   "source": [
    "### Things to note"
   ]
  },
  {
   "cell_type": "code",
   "execution_count": null,
   "id": "eb3d56f1",
   "metadata": {},
   "outputs": [],
   "source": [
    "\n",
    "# Your code here\n"
   ]
  },
  {
   "attachments": {},
   "cell_type": "markdown",
   "id": "74412741",
   "metadata": {},
   "source": [
    "# 3 Saving to disc"
   ]
  },
  {
   "attachments": {},
   "cell_type": "markdown",
   "id": "d9c37c62",
   "metadata": {},
   "source": [
    "# 4 A real example: Global Warming"
   ]
  },
  {
   "attachments": {},
   "cell_type": "markdown",
   "id": "61291129",
   "metadata": {},
   "source": [
    "## 4.1 Plotting data from files"
   ]
  },
  {
   "attachments": {},
   "cell_type": "markdown",
   "id": "1c30ff6c",
   "metadata": {},
   "source": [
    "## 4.2 Styles"
   ]
  },
  {
   "attachments": {},
   "cell_type": "markdown",
   "id": "43411ad5",
   "metadata": {},
   "source": [
    "### xkcd!"
   ]
  },
  {
   "cell_type": "code",
   "execution_count": null,
   "id": "d13837d9",
   "metadata": {},
   "outputs": [],
   "source": [
    "\n",
    "# Your code here\n"
   ]
  },
  {
   "attachments": {},
   "cell_type": "markdown",
   "id": "2b7ffe3f",
   "metadata": {},
   "source": [
    "### Resetting styles"
   ]
  },
  {
   "cell_type": "code",
   "execution_count": null,
   "id": "9cdca5d9",
   "metadata": {},
   "outputs": [],
   "source": [
    "\n",
    "# Your code here\n"
   ]
  }
 ],
 "metadata": {
  "kernelspec": {
   "display_name": "Python 3 (ipykernel)",
   "language": "python",
   "name": "python3"
  },
  "language_info": {
   "codemirror_mode": {
    "name": "ipython",
    "version": 3
   },
   "file_extension": ".py",
   "mimetype": "text/x-python",
   "name": "python",
   "nbconvert_exporter": "python",
   "pygments_lexer": "ipython3",
   "version": "3.11.5"
  },
  "toc": {
   "base_numbering": 1,
   "nav_menu": {},
   "number_sections": true,
   "sideBar": true,
   "skip_h1_title": false,
   "title_cell": "Table of Contents",
   "title_sidebar": "Contents",
   "toc_cell": false,
   "toc_position": {},
   "toc_section_display": true,
   "toc_window_display": false
  },
  "vscode": {
   "interpreter": {
    "hash": "31f2aee4e71d21fbe5cf8b01ff0e069b9275f58929596ceb00d14d90e3e16cd6"
   }
  }
 },
 "nbformat": 4,
 "nbformat_minor": 5
}

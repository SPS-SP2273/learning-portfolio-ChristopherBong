{
 "cells": [
  {
   "cell_type": "code",
   "execution_count": 1,
   "id": "8ab4bdb7-a604-45a8-87a5-a852f5c2f04e",
   "metadata": {},
   "outputs": [
    {
     "name": "stdout",
     "output_type": "stream",
     "text": [
      "Hello World!\n"
     ]
    }
   ],
   "source": [
    "print('Hello World!')"
   ]
  },
  {
   "cell_type": "markdown",
   "id": "b101c5ac-ecfd-4682-b38a-648339f3e20a",
   "metadata": {},
   "source": [
    "The ships hung in the sky in much the same way that bricks don’t.\n",
    "\n"
   ]
  },
  {
   "cell_type": "markdown",
   "id": "5288ecf8-b04b-4d11-a675-ed784d808fe9",
   "metadata": {},
   "source": [
    "The ships *hung in the sky* in much the same way that **bricks don't**<sup>1</sup><sub>QUOTE</sub>"
   ]
  },
  {
   "cell_type": "markdown",
   "id": "248ad087-78e8-4149-a2df-9af8db580d8b",
   "metadata": {},
   "source": [
    "# The largest heading \n",
    "\n",
    "## The second-largest heading \n",
    "\n",
    "### The third-largest heading \n",
    "\n",
    "##### The smallest heading "
   ]
  },
  {
   "cell_type": "markdown",
   "id": "a8c1e2cf-2ef9-41fc-8ed5-425b5f412d59",
   "metadata": {},
   "source": [
    "```python\n",
    "print('Hello World!')\n",
    "```\n"
   ]
  },
  {
   "cell_type": "markdown",
   "id": "581c868f-e1d7-458b-86eb-d25408865932",
   "metadata": {},
   "source": [
    "[SP2273 Website](https://sps.nus.edu.sg/sp2273)"
   ]
  },
  {
   "cell_type": "markdown",
   "id": "43d933ef-391d-4f61-a04a-2a1d4e849328",
   "metadata": {},
   "source": [
    "![](https://nus.edu.sg/images/default-source/base/logo.png)"
   ]
  },
  {
   "cell_type": "markdown",
   "id": "e7a353ed-d755-4656-ae01-32282a1a05d5",
   "metadata": {},
   "source": [
    "|A | B | C|\n",
    "| :--- | :--: | ---: |\n",
    "| a1 | b1 | c1 |\n",
    "| a2 | b2 | c2 |\n",
    "| a3 | b3 | c3 |"
   ]
  },
  {
   "cell_type": "markdown",
   "id": "a6772196-373e-4c26-b69e-99065e2262ab",
   "metadata": {},
   "source": [
    "1. Master Yoda\n",
    "1. Luke Skywalker\n",
    "1. Anakin Skywalker"
   ]
  },
  {
   "cell_type": "markdown",
   "id": "bbd4a1dd-4501-4c5b-b713-3a52c19cb29b",
   "metadata": {},
   "source": [
    "1. Master Yoda\n",
    "   1. Was a Jedi\n",
    "   1. Was a bit green\n",
    "1. Luke Skywalker\n",
    "   1. Was a Jedi\n",
    "   1. Is Anakin's son.\n",
    "1. Anakin Skywalker\n",
    "   1. Was a Jedi then became a baddie\n",
    "   1. Is famous for saying 'Luke, I am your father'\n"
   ]
  },
  {
   "cell_type": "markdown",
   "id": "58802c1d-f0a2-4ed0-8ba8-1c094061ee8e",
   "metadata": {},
   "source": [
    "$$\n",
    "x = \\dfrac{-b \\pm \\sqrt{b^2-4ac}}{2a}\n",
    "$$"
   ]
  },
  {
   "cell_type": "markdown",
   "id": "38ba0578-104b-4a5e-96cc-3bdbeb5e3bf2",
   "metadata": {},
   "source": [
    "$$\n",
    "ax^{2} + bx + c = 0 \n",
    "$$"
   ]
  },
  {
   "cell_type": "markdown",
   "id": "74affc7d-a34b-42f2-85f9-789fdfda3026",
   "metadata": {},
   "source": [
    "**Quadratic Equations**\n",
    "\n",
    "![](https://upload.wikimedia.org/wikipedia/commons/f/f8/Polynomialdeg2.svg)\n",
    "\n",
    "(*Image from the* [<ins>*Wikipedia page on Quadratic Equations*</ins>](https://en.wikipedia.org/wiki/Quadratic_equation))\n",
    "\n",
    "**Introduction** \n",
    "\n",
    "The general form of a quadratic equation is:\n",
    "\n",
    "<p style=\"text-align: center;\"> $ax^{2} + bx + c = 0 $ </p>\n",
    "\n",
    "**Solutions** Provided $a \\ne 0$, we can use an elementary algebraic method called [<ins>completeing the square</ins>](https://en.wikipedia.org/wiki/Completing_the_square) to show that a quadratic equation has the following solution:\n",
    "\n",
    "<p style=\"text-align: center;\"> $x = \\dfrac{-b \\pm \\sqrt{b^2-4ac}}{2a} $ </p>\n",
    "\n",
    "**Discriminant** \n",
    "\n",
    "The quantity $\\Delta = b^2-4ac$ is called the **discriminant** of the equation and decides the nature of its solutions. The table below shows the various possibilities \n",
    "\n",
    "| <p style=\"text-align: center;\">Discriminat </p>| <p style=\"text-align: left;\">Roots </p> |\n",
    "| :--- | ---: |\n",
    "| $\\Delta = b^2-4ac = 0$ | A single solution of $\\dfrac{-b}{(2a)}$ |\n",
    "| $\\Delta = b^2-4ac \\gt 0$ | Two distinct solutions |\n",
    "| $\\Delta = b^2-4ac \\lt 0$ | No real solutions; both are complex. | "
   ]
  },
  {
   "cell_type": "markdown",
   "id": "243aab80-3d96-400c-b762-ba3c3d8cd7ba",
   "metadata": {},
   "source": [
    "1. A repository also known as a repo is a storage location where project files and resources are kept. Containing folders, files and tracked history of changes to said files. Developers can access a repo to collaborate, track changes and manage different versions of their code\n",
    "1. Git keep tracks of <ins>**changes**</ins> in the files in our repository\n",
    "1. A commit refers to the concept relating to tracking of changes within a repository. Whereby a commit represents a snapshot of the project at any point in time.\n",
    "1. A push refers to the process of sending committed changes from a local repository to a remote repository. Allowing for sharing of local changes with others or syncronising work.\n",
    "1. Github refers to the platform for hosting repositories i.e. remote hosting of repos allowing for collaboration whereas Github desktop is a GUI for Git allowing for local management of repos, commit changes and pushing these changes to remote repositories found on Github\n",
    "1. Yes the opposite to 'push' is pull where changes are fetched from a remote repository to a local repository merging changes into the local repository "
   ]
  },
  {
   "cell_type": "code",
   "execution_count": 1,
   "id": "aff01df2-de8c-4aec-8a6e-7059df04bf37",
   "metadata": {},
   "outputs": [],
   "source": [
    "x=10"
   ]
  },
  {
   "cell_type": "code",
   "execution_count": 2,
   "id": "42116f66",
   "metadata": {},
   "outputs": [
    {
     "name": "stdout",
     "output_type": "stream",
     "text": [
      "14.5 ns ± 1.09 ns per loop (mean ± std. dev. of 7 runs, 100,000,000 loops each)\n"
     ]
    }
   ],
   "source": [
    "%timeit x=10"
   ]
  },
  {
   "cell_type": "code",
   "execution_count": 7,
   "id": "0e6b74ff",
   "metadata": {},
   "outputs": [],
   "source": [
    "%timeit\n",
    "\n",
    "x=10\n",
    "y=10\n",
    "z=10"
   ]
  },
  {
   "cell_type": "code",
   "execution_count": 3,
   "id": "8a60e43b",
   "metadata": {},
   "outputs": [
    {
     "data": {
      "application/json": {
       "cell": {
        "!": "OSMagics",
        "HTML": "Other",
        "SVG": "Other",
        "bash": "Other",
        "capture": "ExecutionMagics",
        "cmd": "Other",
        "code_wrap": "ExecutionMagics",
        "debug": "ExecutionMagics",
        "file": "Other",
        "html": "DisplayMagics",
        "javascript": "DisplayMagics",
        "js": "DisplayMagics",
        "latex": "DisplayMagics",
        "markdown": "DisplayMagics",
        "perl": "Other",
        "prun": "ExecutionMagics",
        "pypy": "Other",
        "python": "Other",
        "python2": "Other",
        "python3": "Other",
        "ruby": "Other",
        "script": "ScriptMagics",
        "sh": "Other",
        "svg": "DisplayMagics",
        "sx": "OSMagics",
        "system": "OSMagics",
        "time": "ExecutionMagics",
        "timeit": "ExecutionMagics",
        "writefile": "OSMagics"
       },
       "line": {
        "alias": "OSMagics",
        "alias_magic": "BasicMagics",
        "autoawait": "AsyncMagics",
        "autocall": "AutoMagics",
        "automagic": "AutoMagics",
        "autosave": "KernelMagics",
        "bookmark": "OSMagics",
        "cd": "OSMagics",
        "clear": "KernelMagics",
        "cls": "KernelMagics",
        "code_wrap": "ExecutionMagics",
        "colors": "BasicMagics",
        "conda": "PackagingMagics",
        "config": "ConfigMagics",
        "connect_info": "KernelMagics",
        "copy": "Other",
        "ddir": "Other",
        "debug": "ExecutionMagics",
        "dhist": "OSMagics",
        "dirs": "OSMagics",
        "doctest_mode": "BasicMagics",
        "echo": "Other",
        "ed": "Other",
        "edit": "KernelMagics",
        "env": "OSMagics",
        "gui": "BasicMagics",
        "hist": "Other",
        "history": "HistoryMagics",
        "killbgscripts": "ScriptMagics",
        "ldir": "Other",
        "less": "KernelMagics",
        "load": "CodeMagics",
        "load_ext": "ExtensionMagics",
        "loadpy": "CodeMagics",
        "logoff": "LoggingMagics",
        "logon": "LoggingMagics",
        "logstart": "LoggingMagics",
        "logstate": "LoggingMagics",
        "logstop": "LoggingMagics",
        "ls": "Other",
        "lsmagic": "BasicMagics",
        "macro": "ExecutionMagics",
        "magic": "BasicMagics",
        "mamba": "PackagingMagics",
        "matplotlib": "PylabMagics",
        "micromamba": "PackagingMagics",
        "mkdir": "Other",
        "more": "KernelMagics",
        "notebook": "BasicMagics",
        "page": "BasicMagics",
        "pastebin": "CodeMagics",
        "pdb": "ExecutionMagics",
        "pdef": "NamespaceMagics",
        "pdoc": "NamespaceMagics",
        "pfile": "NamespaceMagics",
        "pinfo": "NamespaceMagics",
        "pinfo2": "NamespaceMagics",
        "pip": "PackagingMagics",
        "popd": "OSMagics",
        "pprint": "BasicMagics",
        "precision": "BasicMagics",
        "prun": "ExecutionMagics",
        "psearch": "NamespaceMagics",
        "psource": "NamespaceMagics",
        "pushd": "OSMagics",
        "pwd": "OSMagics",
        "pycat": "OSMagics",
        "pylab": "PylabMagics",
        "qtconsole": "KernelMagics",
        "quickref": "BasicMagics",
        "recall": "HistoryMagics",
        "rehashx": "OSMagics",
        "reload_ext": "ExtensionMagics",
        "ren": "Other",
        "rep": "Other",
        "rerun": "HistoryMagics",
        "reset": "NamespaceMagics",
        "reset_selective": "NamespaceMagics",
        "rmdir": "Other",
        "run": "ExecutionMagics",
        "save": "CodeMagics",
        "sc": "OSMagics",
        "set_env": "OSMagics",
        "store": "StoreMagics",
        "sx": "OSMagics",
        "system": "OSMagics",
        "tb": "ExecutionMagics",
        "time": "ExecutionMagics",
        "timeit": "ExecutionMagics",
        "unalias": "OSMagics",
        "unload_ext": "ExtensionMagics",
        "who": "NamespaceMagics",
        "who_ls": "NamespaceMagics",
        "whos": "NamespaceMagics",
        "xdel": "NamespaceMagics",
        "xmode": "BasicMagics"
       }
      },
      "text/plain": [
       "Available line magics:\n",
       "%alias  %alias_magic  %autoawait  %autocall  %automagic  %autosave  %bookmark  %cd  %clear  %cls  %code_wrap  %colors  %conda  %config  %connect_info  %copy  %ddir  %debug  %dhist  %dirs  %doctest_mode  %echo  %ed  %edit  %env  %gui  %hist  %history  %killbgscripts  %ldir  %less  %load  %load_ext  %loadpy  %logoff  %logon  %logstart  %logstate  %logstop  %ls  %lsmagic  %macro  %magic  %mamba  %matplotlib  %micromamba  %mkdir  %more  %notebook  %page  %pastebin  %pdb  %pdef  %pdoc  %pfile  %pinfo  %pinfo2  %pip  %popd  %pprint  %precision  %prun  %psearch  %psource  %pushd  %pwd  %pycat  %pylab  %qtconsole  %quickref  %recall  %rehashx  %reload_ext  %ren  %rep  %rerun  %reset  %reset_selective  %rmdir  %run  %save  %sc  %set_env  %store  %sx  %system  %tb  %time  %timeit  %unalias  %unload_ext  %who  %who_ls  %whos  %xdel  %xmode\n",
       "\n",
       "Available cell magics:\n",
       "%%!  %%HTML  %%SVG  %%bash  %%capture  %%cmd  %%code_wrap  %%debug  %%file  %%html  %%javascript  %%js  %%latex  %%markdown  %%perl  %%prun  %%pypy  %%python  %%python2  %%python3  %%ruby  %%script  %%sh  %%svg  %%sx  %%system  %%time  %%timeit  %%writefile\n",
       "\n",
       "Automagic is ON, % prefix IS NOT needed for line magics."
      ]
     },
     "execution_count": 3,
     "metadata": {},
     "output_type": "execute_result"
    }
   ],
   "source": [
    "%lsmagic"
   ]
  },
  {
   "cell_type": "code",
   "execution_count": null,
   "id": "c70822b1",
   "metadata": {},
   "outputs": [],
   "source": []
  }
 ],
 "metadata": {
  "kernelspec": {
   "display_name": "Python 3 (ipykernel)",
   "language": "python",
   "name": "python3"
  },
  "language_info": {
   "codemirror_mode": {
    "name": "ipython",
    "version": 3
   },
   "file_extension": ".py",
   "mimetype": "text/x-python",
   "name": "python",
   "nbconvert_exporter": "python",
   "pygments_lexer": "ipython3",
   "version": "3.11.5"
  },
  "toc": {
   "base_numbering": 1,
   "nav_menu": {},
   "number_sections": true,
   "sideBar": true,
   "skip_h1_title": false,
   "title_cell": "Table of Contents",
   "title_sidebar": "Contents",
   "toc_cell": false,
   "toc_position": {},
   "toc_section_display": true,
   "toc_window_display": false
  },
  "varInspector": {
   "cols": {
    "lenName": 16,
    "lenType": 16,
    "lenVar": 40
   },
   "kernels_config": {
    "python": {
     "delete_cmd_postfix": "",
     "delete_cmd_prefix": "del ",
     "library": "var_list.py",
     "varRefreshCmd": "print(var_dic_list())"
    },
    "r": {
     "delete_cmd_postfix": ") ",
     "delete_cmd_prefix": "rm(",
     "library": "var_list.r",
     "varRefreshCmd": "cat(var_dic_list()) "
    }
   },
   "types_to_exclude": [
    "module",
    "function",
    "builtin_function_or_method",
    "instance",
    "_Feature"
   ],
   "window_display": false
  }
 },
 "nbformat": 4,
 "nbformat_minor": 5
}

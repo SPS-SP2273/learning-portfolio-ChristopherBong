{
 "cells": [
  {
   "attachments": {},
   "cell_type": "markdown",
   "id": "123456",
   "metadata": {},
   "source": [
    "<div style=\"text-align:left;font-size:2em\"><span style=\"font-weight:bolder;font-size:1.25em\">SP2273 | Learning Portfolio</span><br><br><span style=\"font-weight:bold;color:darkred\">Functions (Good) Exercises</span></div>"
   ]
  },
  {
   "cell_type": "markdown",
   "id": "a739c065-ed6c-44aa-95b4-35b94735f7af",
   "metadata": {},
   "source": [
    "### Exercise 1 (Celsius to Fahrenheit or Kelvin) ☻"
   ]
  },
  {
   "cell_type": "code",
   "execution_count": 7,
   "id": "c1efe211-7c25-4cca-891d-fe122c2c8a9d",
   "metadata": {},
   "outputs": [
    {
     "name": "stdout",
     "output_type": "stream",
     "text": [
      "212.0\n",
      "373.15\n"
     ]
    }
   ],
   "source": [
    "def convert_celsius(temperature_celsius, target_scale = 'Farenheit'):\n",
    "    '''convert from celsius to farenheit by default or kelvin when specified \n",
    "    '''\n",
    "    if target_scale.lower() == 'farenheit':\n",
    "        temperature_farenheit = temperature_celsius * 9/5 + 32\n",
    "        return temperature_farenheit\n",
    "\n",
    "    elif target_scale.lower() == 'kelvin':\n",
    "        temperature_kelvin = temperature_celsius + 273.15\n",
    "        return temperature_kelvin\n",
    "\n",
    "print(convert_celsius(100)) #temperature from celsius to farenheit\n",
    "\n",
    "print(convert_celsius(100, 'Kelvin')) #temperature from celsius to kelvin\n",
    "\n",
    "        "
   ]
  },
  {
   "cell_type": "markdown",
   "id": "4414c65d-6d1c-4989-ba73-5ae3067ef7ff",
   "metadata": {},
   "source": [
    "### Exercise 2 (Fahrenheit to Celsius or Kelvin) ☻"
   ]
  },
  {
   "cell_type": "code",
   "execution_count": 10,
   "id": "ed4dd2f9-427e-4765-89ed-3b0cca82edb6",
   "metadata": {},
   "outputs": [
    {
     "name": "stdout",
     "output_type": "stream",
     "text": [
      "37.77777777777778\n",
      "310.92777777777775\n"
     ]
    }
   ],
   "source": [
    "def convert_farenheit(temperature_farenheit, target_scale = 'Celsius'):\n",
    "    '''convert from farenheit to celsius by default or kelvin when specified \n",
    "    '''\n",
    "    if target_scale.lower() == 'celsius':\n",
    "        temperature_celsius = (temperature_farenheit - 32) * 5/9 \n",
    "        return temperature_celsius\n",
    "\n",
    "    elif target_scale.lower() == 'kelvin':\n",
    "        temperature_kelvin = (temperature_farenheit-32) * 5/9  + 273.15\n",
    "        return temperature_kelvin\n",
    "\n",
    "print(convert_farenheit(100)) #temperature from celsius to farenheit\n",
    "\n",
    "print(convert_farenheit(100, 'Kelvin')) #temperature from celsius to kelvin"
   ]
  },
  {
   "cell_type": "markdown",
   "id": "22c7b5bc-8d1d-4b95-b7eb-114bca483f43",
   "metadata": {},
   "source": [
    "### Exercise 3 (General Temperature Conversion) ☻"
   ]
  },
  {
   "cell_type": "code",
   "execution_count": 18,
   "id": "73ddab66-73a9-4bf2-9fa8-0b83fdf2f9ea",
   "metadata": {},
   "outputs": [],
   "source": [
    "def convert_kelvin(temperature_kelvin, target_scale = 'celsius'):\n",
    "    '''convert from kelvin to celsius by default or farenheit when specified \n",
    "    '''\n",
    "    if target_scale.lower() == 'celsius':\n",
    "        temperature_celsius = (temperature_kelvin - 273.15) \n",
    "        return temperature_celsius\n",
    "\n",
    "    elif target_scale.lower() == 'farenheit':\n",
    "        temperature_farenheit = (temperature_kelvin-273.15) * 9/5  + 32\n",
    "        return temperature_farenheit\n",
    "\n",
    "def convert_temperature(temperature, source_scale, target_scale):\n",
    "    '''convert from specified source_scale to target_scale '''\n",
    "    if source_scale.lower() == 'celsius':\n",
    "        temperature_targetscale = convert_celsius(temperature, target_scale)\n",
    "        return temperature_targetscale \n",
    "\n",
    "    elif source_scale.lower() == 'farenheit':\n",
    "        temperature_targetscale = convert_farenheit(temperature, target_scale)\n",
    "        return temperature_targetscale \n",
    "\n",
    "    elif source_scale.lower() == 'kelvin':\n",
    "        temperature_targetscale = convert_kelvin(temperature, target_scale)\n",
    "        return temperature_targetscale \n"
   ]
  },
  {
   "cell_type": "code",
   "execution_count": 20,
   "id": "dd942613-c8d5-4051-86a3-318898306a37",
   "metadata": {},
   "outputs": [
    {
     "name": "stdout",
     "output_type": "stream",
     "text": [
      "212.0\n"
     ]
    }
   ],
   "source": [
    "print(convert_temperature(100,'celsius', 'farenheit'))\n",
    "\n"
   ]
  }
 ],
 "metadata": {
  "kernelspec": {
   "display_name": "Python 3 (ipykernel)",
   "language": "python",
   "name": "python3"
  },
  "language_info": {
   "codemirror_mode": {
    "name": "ipython",
    "version": 3
   },
   "file_extension": ".py",
   "mimetype": "text/x-python",
   "name": "python",
   "nbconvert_exporter": "python",
   "pygments_lexer": "ipython3",
   "version": "3.11.5"
  },
  "toc": {
   "base_numbering": 1,
   "nav_menu": {},
   "number_sections": true,
   "sideBar": true,
   "skip_h1_title": false,
   "title_cell": "Table of Contents",
   "title_sidebar": "Contents",
   "toc_cell": false,
   "toc_position": {},
   "toc_section_display": true,
   "toc_window_display": false
  },
  "vscode": {
   "interpreter": {
    "hash": "31f2aee4e71d21fbe5cf8b01ff0e069b9275f58929596ceb00d14d90e3e16cd6"
   }
  }
 },
 "nbformat": 4,
 "nbformat_minor": 5
}

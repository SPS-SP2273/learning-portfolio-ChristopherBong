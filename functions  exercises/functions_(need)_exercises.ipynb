{
 "cells": [
  {
   "attachments": {},
   "cell_type": "markdown",
   "id": "123456",
   "metadata": {},
   "source": [
    "<div style=\"text-align:left;font-size:2em\"><span style=\"font-weight:bolder;font-size:1.25em\">SP2273 | Learning Portfolio</span><br><br><span style=\"font-weight:bold;color:darkred\">Functions (Need) Exercises</span></div>"
   ]
  },
  {
   "cell_type": "markdown",
   "id": "11fbf234-4d7e-4858-afc0-ceb7a6e8c6b8",
   "metadata": {},
   "source": [
    "### Exercise 1 (Do you know why?) ☻"
   ]
  },
  {
   "cell_type": "markdown",
   "id": "7dff04b3-1d31-438f-ae45-15811f2a21b9",
   "metadata": {},
   "source": [
    "    def greeting(name): \r",
    "    \n",
    "    if name == 'Batman':    \r\n",
    "        return 'Hello Batman! So, nice to meet you!    '\r\n",
    "    return f'Hello {name \n",
    "\n",
    "the code does not require an else statement as there is a second return statement outside 'if' so if the name is not Batman the next line will be executed which is the second return statement for Hello name! Thus covering for both conditions hence else is not needed.}!'"
   ]
  },
  {
   "cell_type": "markdown",
   "id": "d40354be-fbf0-4919-b397-c3b3cec5987d",
   "metadata": {},
   "source": [
    "### Exercise 2 (Chubby or not) ☻"
   ]
  },
  {
   "cell_type": "code",
   "execution_count": 34,
   "id": "f015dceb-b959-4636-a42e-53515522a4cd",
   "metadata": {},
   "outputs": [],
   "source": [
    "def calculate_bmi():\n",
    "    try:\n",
    "        weight = float(input('Key in weight (in kilogram)'))\n",
    "        height = float(input('Key in height (in meters)'))\n",
    "        print(f\"You entered, {weight} kg and {height} m \" )\n",
    "\n",
    "        if height <= 0 or weight <= 0: \n",
    "            return(\"Invalid input, height or weight cannot be less or be zero\")\n",
    "        \n",
    "        bmi = round(weight / height**2, 2)\n",
    "        if bmi <= 18.5 : \n",
    "            return(f'BMI is {bmi} and is underweight')\n",
    "\n",
    "        elif 18.5 <= bmi < 25 :\n",
    "            return(f'BMI is {bmi} and is normal weight')\n",
    "\n",
    "        elif 25 <= bmi < 30 :\n",
    "            return(f'BMI is {bmi} and is overweight')\n",
    "\n",
    "        elif  bmi >= 30 :\n",
    "            return(f'BMI is {bmi} and is obese')\n",
    "\n",
    "    except ValueError:\n",
    "        print(\"Please enter a valid value\")\n"
   ]
  },
  {
   "cell_type": "code",
   "execution_count": 33,
   "id": "6a07167c-338b-4920-ae48-9cfa7fd61c8f",
   "metadata": {},
   "outputs": [
    {
     "name": "stdin",
     "output_type": "stream",
     "text": [
      "Key in weight (in kilogram) 0\n",
      "Key in height (in meters) 10\n"
     ]
    },
    {
     "name": "stdout",
     "output_type": "stream",
     "text": [
      "You entered, 0.0 kg and 10.0 m \n"
     ]
    },
    {
     "data": {
      "text/plain": [
       "'Invalid input, height and weight cannot be less or be zero'"
      ]
     },
     "execution_count": 33,
     "metadata": {},
     "output_type": "execute_result"
    }
   ],
   "source": [
    "calculate_bmi()"
   ]
  }
 ],
 "metadata": {
  "kernelspec": {
   "display_name": "Python 3 (ipykernel)",
   "language": "python",
   "name": "python3"
  },
  "language_info": {
   "codemirror_mode": {
    "name": "ipython",
    "version": 3
   },
   "file_extension": ".py",
   "mimetype": "text/x-python",
   "name": "python",
   "nbconvert_exporter": "python",
   "pygments_lexer": "ipython3",
   "version": "3.11.5"
  },
  "toc": {
   "base_numbering": 1,
   "nav_menu": {},
   "number_sections": true,
   "sideBar": true,
   "skip_h1_title": false,
   "title_cell": "Table of Contents",
   "title_sidebar": "Contents",
   "toc_cell": false,
   "toc_position": {},
   "toc_section_display": true,
   "toc_window_display": false
  },
  "vscode": {
   "interpreter": {
    "hash": "31f2aee4e71d21fbe5cf8b01ff0e069b9275f58929596ceb00d14d90e3e16cd6"
   }
  }
 },
 "nbformat": 4,
 "nbformat_minor": 5
}
